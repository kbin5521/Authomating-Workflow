{
 "cells": [
  {
   "cell_type": "markdown",
   "metadata": {},
   "source": [
    "### How to read, write, or add text in a text file .txt"
   ]
  },
  {
   "cell_type": "code",
   "execution_count": 1,
   "metadata": {},
   "outputs": [],
   "source": [
    "import os"
   ]
  },
  {
   "cell_type": "code",
   "execution_count": 24,
   "metadata": {},
   "outputs": [
    {
     "name": "stdout",
     "output_type": "stream",
     "text": [
      "New folder would be:  D:\\Users\\guangbin.jin\\textfolder\n"
     ]
    }
   ],
   "source": [
    "# Create a new folder path\n",
    "cwd = r'D:\\Users\\guangbin.jin'\n",
    "new_cwd = cwd + '\\\\textfolder'\n",
    "print('New folder would be: ', new_cwd)"
   ]
  },
  {
   "cell_type": "code",
   "execution_count": null,
   "metadata": {},
   "outputs": [],
   "source": [
    "if not os.path.exists(newpath):\n",
    "    os.makedirs(newpath)"
   ]
  },
  {
   "cell_type": "code",
   "execution_count": 27,
   "metadata": {},
   "outputs": [
    {
     "name": "stdout",
     "output_type": "stream",
     "text": [
      "Current directory is:  D:\\Users\\guangbin.jin\\textfolder\n",
      "\n",
      "We have successfully created a new folder and changed the workding directory.\n",
      "Now, we want to create a new text file in the new folder.\n"
     ]
    }
   ],
   "source": [
    "# Create a new folder\n",
    "if not os.path.exists(new_cwd):\n",
    "    os.makedirs(new_cwd)\n",
    "# change directory to the new folder\n",
    "os.chdir(new_cwd)\n",
    "\n",
    "# check current directory\n",
    "print('Current directory is: ', os.getcwd())\n",
    "\n",
    "print('\\nWe have successfully created a new folder and changed the workding directory.\\n\\\n",
    "Now, we want to create a new text file in the new folder.')"
   ]
  },
  {
   "cell_type": "code",
   "execution_count": 32,
   "metadata": {},
   "outputs": [
    {
     "data": {
      "text/plain": [
       "['textfolder']"
      ]
     },
     "execution_count": 32,
     "metadata": {},
     "output_type": "execute_result"
    }
   ],
   "source": [
    "# Let's check what we've got inthe new forlder \n",
    "os.listdir()"
   ]
  },
  {
   "cell_type": "markdown",
   "metadata": {},
   "source": [
    "#### Write a new file"
   ]
  },
  {
   "cell_type": "code",
   "execution_count": 34,
   "metadata": {},
   "outputs": [
    {
     "data": {
      "text/plain": [
       "['new_test.txt', 'textfolder']"
      ]
     },
     "execution_count": 34,
     "metadata": {},
     "output_type": "execute_result"
    }
   ],
   "source": [
    "# Now, let's create a new text file\n",
    "# The 'w' means write, and also there are 'r':read; 'a+';append\n",
    "# Use the one depends on the situation\n",
    "f = open('new_test.txt', 'w')\n",
    "print(os.listdir())"
   ]
  },
  {
   "cell_type": "code",
   "execution_count": 38,
   "metadata": {},
   "outputs": [],
   "source": [
    "# Let's write some notes in the file\n",
    "for i in range(5):\n",
    "    f.write('This is line %d\\r\\n' % (i+1))\n",
    "# close the fild\n",
    "f.close()"
   ]
  },
  {
   "cell_type": "markdown",
   "metadata": {},
   "source": [
    "#### Read the file we wrote"
   ]
  },
  {
   "cell_type": "code",
   "execution_count": 44,
   "metadata": {},
   "outputs": [
    {
     "name": "stdout",
     "output_type": "stream",
     "text": [
      "This is line 1\n",
      "\n",
      "This is line 2\n",
      "\n",
      "This is line 3\n",
      "\n",
      "This is line 4\n",
      "\n",
      "This is line 5\n",
      "\n",
      "This is line 1\n",
      "\n",
      "This is line 2\n",
      "\n",
      "This is line 3\n",
      "\n",
      "This is line 4\n",
      "\n",
      "This is line 5\n",
      "\n",
      "\n"
     ]
    }
   ],
   "source": [
    "# f.read can read the whole file\n",
    "with open('new_test.txt', 'r') as f:\n",
    "    content = f.read()\n",
    "    f.close()\n",
    "print(content)"
   ]
  },
  {
   "cell_type": "code",
   "execution_count": 46,
   "metadata": {},
   "outputs": [
    {
     "data": {
      "text/plain": [
       "['This is line 1\\n', '\\n', 'This is line 2\\n']"
      ]
     },
     "execution_count": 46,
     "metadata": {},
     "output_type": "execute_result"
    }
   ],
   "source": [
    "# how to read lines;\n",
    "content2 = []\n",
    "with open('new_test.txt', 'r') as f:\n",
    "    lines = f.readlines()\n",
    "    for line in lines:\n",
    "        content2.append(line)\n",
    "    f.close()\n",
    "content2[:3]"
   ]
  },
  {
   "cell_type": "markdown",
   "metadata": {},
   "source": [
    "#### Add new infor into the file"
   ]
  },
  {
   "cell_type": "code",
   "execution_count": 47,
   "metadata": {},
   "outputs": [],
   "source": [
    "with open('new_test.txt', 'a') as f:\n",
    "    for i in range(3):\n",
    "        f.write('%d more info \\r\\n' % (i+1))\n",
    "    f.close()"
   ]
  },
  {
   "cell_type": "code",
   "execution_count": 48,
   "metadata": {
    "collapsed": true
   },
   "outputs": [
    {
     "name": "stdout",
     "output_type": "stream",
     "text": [
      "This is line 1\n",
      "\n",
      "This is line 2\n",
      "\n",
      "This is line 3\n",
      "\n",
      "This is line 4\n",
      "\n",
      "This is line 5\n",
      "\n",
      "This is line 1\n",
      "\n",
      "This is line 2\n",
      "\n",
      "This is line 3\n",
      "\n",
      "This is line 4\n",
      "\n",
      "This is line 5\n",
      "\n",
      "1 more info \n",
      "\n",
      "2 more info \n",
      "\n",
      "3 more info \n",
      "\n",
      "\n"
     ]
    }
   ],
   "source": [
    "# Use previous method to read file\n",
    "with open('new_test.txt', 'r') as f:\n",
    "    content = f.read()\n",
    "    f.close()\n",
    "print(content)"
   ]
  },
  {
   "cell_type": "code",
   "execution_count": null,
   "metadata": {},
   "outputs": [],
   "source": [
    "# It is successful"
   ]
  }
 ],
 "metadata": {
  "kernelspec": {
   "display_name": "Python 3",
   "language": "python",
   "name": "python3"
  },
  "language_info": {
   "codemirror_mode": {
    "name": "ipython",
    "version": 3
   },
   "file_extension": ".py",
   "mimetype": "text/x-python",
   "name": "python",
   "nbconvert_exporter": "python",
   "pygments_lexer": "ipython3",
   "version": "3.6.5"
  }
 },
 "nbformat": 4,
 "nbformat_minor": 2
}
