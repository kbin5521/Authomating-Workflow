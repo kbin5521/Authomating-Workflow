{
 "cells": [
  {
   "cell_type": "markdown",
   "metadata": {},
   "source": [
    "## Introduction to create a Microsof Word Document from Python 3"
   ]
  },
  {
   "cell_type": "markdown",
   "metadata": {},
   "source": [
    "First, install the ptyhon-docx package through pip3.\n",
    "code: pip3 install python-docx"
   ]
  },
  {
   "cell_type": "code",
   "execution_count": 1,
   "metadata": {},
   "outputs": [],
   "source": [
    "# import python-docx pacakge\n",
    "import docx"
   ]
  },
  {
   "cell_type": "markdown",
   "metadata": {},
   "source": [
    "#### Open a document"
   ]
  },
  {
   "cell_type": "code",
   "execution_count": 2,
   "metadata": {},
   "outputs": [],
   "source": [
    "'''This opens up a blank document based on the default \"template\", pretty much what you \n",
    "get when you start a new document in Word. Also, you can open and workd on an existing Word document using python-docx.'''\n",
    "document = docx.Document()\n"
   ]
  },
  {
   "cell_type": "markdown",
   "metadata": {},
   "source": [
    "#### Add a paragraph"
   ]
  },
  {
   "cell_type": "code",
   "execution_count": 3,
   "metadata": {},
   "outputs": [],
   "source": [
    "# Create paragraphs in word\n",
    "paragraph = document.add_paragraph('Paragraph 1.')\n",
    "paragraph3 = document.add_paragraph('Paragraph 3')\n"
   ]
  },
  {
   "cell_type": "code",
   "execution_count": 4,
   "metadata": {},
   "outputs": [],
   "source": [
    "# Insert paragraph before one paragraph\n",
    "paragraph2 = paragraph3.insert_paragraph_before('Paragraph 2: later added')"
   ]
  },
  {
   "cell_type": "code",
   "execution_count": 5,
   "metadata": {},
   "outputs": [
    {
     "name": "stderr",
     "output_type": "stream",
     "text": [
      "D:\\Users\\guangbin.jin\\AppData\\Local\\Continuum\\anaconda3\\lib\\site-packages\\docx\\styles\\styles.py:143: UserWarning: style lookup by style_id is deprecated. Use style name as key instead.\n",
      "  return self._get_style_id_from_style(self[style_name], style_type)\n"
     ]
    }
   ],
   "source": [
    "# applying a paragraph style\n",
    "paragraph_style = document.add_paragraph('Paragraph 4. Style', style = 'ListBullet')\n",
    "# 'List Bullet', 'List Number', 'Intense Quote'"
   ]
  },
  {
   "cell_type": "markdown",
   "metadata": {},
   "source": [
    "#### Other features"
   ]
  },
  {
   "cell_type": "markdown",
   "metadata": {},
   "source": [
    "- document.add_heading('', level=n)\n",
    "- document.add_page_break()\n",
    "- document.add_table(rows=n, cols=n) -> cell = table.cell(0,1) -> cell.text = 'text'\n",
    "- document.add_pitture('xxx.png') -> docx.shared.Inches can change image size\n",
    "\n"
   ]
  },
  {
   "cell_type": "markdown",
   "metadata": {},
   "source": [
    "#### Applying bold and italic"
   ]
  },
  {
   "cell_type": "code",
   "execution_count": 6,
   "metadata": {},
   "outputs": [],
   "source": [
    "paragraph5 = document.add_paragraph('My name is ')\n",
    "paragraph5.add_run('KEVIN.').bold = True\n",
    "paragraph5.add_run('\\n Italic').italic = True"
   ]
  },
  {
   "cell_type": "markdown",
   "metadata": {},
   "source": [
    "#### Applying a character style"
   ]
  },
  {
   "cell_type": "code",
   "execution_count": 7,
   "metadata": {},
   "outputs": [
    {
     "data": {
      "text/plain": [
       "<docx.text.run.Run at 0x5101400>"
      ]
     },
     "execution_count": 7,
     "metadata": {},
     "output_type": "execute_result"
    }
   ],
   "source": [
    "paragraph6 = document.add_paragraph('Normal text, ')\n",
    "paragraph6.add_run('Text with emphasis', 'Emphasis')"
   ]
  },
  {
   "cell_type": "markdown",
   "metadata": {},
   "source": [
    "#### Save the document"
   ]
  },
  {
   "cell_type": "code",
   "execution_count": 8,
   "metadata": {},
   "outputs": [],
   "source": [
    "document.save('practice_word.docx')"
   ]
  }
 ],
 "metadata": {
  "kernelspec": {
   "display_name": "Python 3",
   "language": "python",
   "name": "python3"
  },
  "language_info": {
   "codemirror_mode": {
    "name": "ipython",
    "version": 3
   },
   "file_extension": ".py",
   "mimetype": "text/x-python",
   "name": "python",
   "nbconvert_exporter": "python",
   "pygments_lexer": "ipython3",
   "version": "3.6.5"
  }
 },
 "nbformat": 4,
 "nbformat_minor": 2
}
